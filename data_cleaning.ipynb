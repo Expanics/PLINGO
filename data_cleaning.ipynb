{
 "cells": [
  {
   "cell_type": "code",
   "execution_count": 53,
   "id": "7e54f802",
   "metadata": {},
   "outputs": [],
   "source": [
    "import glob\n",
    "import re\n",
    "import pandas as pd\n",
    "import numpy as np\n",
    "\n",
    "import warnings\n",
    "warnings.filterwarnings(\"ignore\")"
   ]
  },
  {
   "cell_type": "markdown",
   "id": "c1c0d9b4",
   "metadata": {},
   "source": [
    "# Merge Data"
   ]
  },
  {
   "cell_type": "code",
   "execution_count": 54,
   "id": "37a49b54",
   "metadata": {},
   "outputs": [],
   "source": [
    "main_data = glob.glob(\"data/*.csv\")"
   ]
  },
  {
   "cell_type": "code",
   "execution_count": 55,
   "id": "412ea9b3",
   "metadata": {},
   "outputs": [],
   "source": [
    "df_list = [pd.read_csv(file) for file in main_data]\n",
    "merged_df = pd.concat(df_list, ignore_index=True)"
   ]
  },
  {
   "cell_type": "code",
   "execution_count": 56,
   "id": "4f1ce425",
   "metadata": {},
   "outputs": [],
   "source": [
    "merged_df.to_csv(\"merged_data.csv\", index=False)"
   ]
  },
  {
   "cell_type": "code",
   "execution_count": 57,
   "id": "1f4b4e52",
   "metadata": {},
   "outputs": [],
   "source": [
    "df = merged_df.copy()"
   ]
  },
  {
   "cell_type": "markdown",
   "id": "666e61a1",
   "metadata": {},
   "source": [
    "# Cleaning Data\n"
   ]
  },
  {
   "cell_type": "code",
   "execution_count": 58,
   "id": "9d230544",
   "metadata": {},
   "outputs": [
    {
     "name": "stdout",
     "output_type": "stream",
     "text": [
      "Jumlah baris sebelum cleaning: 2731\n"
     ]
    }
   ],
   "source": [
    "print(\"Jumlah baris sebelum cleaning:\", len(df))"
   ]
  },
  {
   "cell_type": "code",
   "execution_count": 59,
   "id": "cd8cd98a",
   "metadata": {},
   "outputs": [
    {
     "name": "stdout",
     "output_type": "stream",
     "text": [
      "<class 'pandas.core.frame.DataFrame'>\n",
      "RangeIndex: 2731 entries, 0 to 2730\n",
      "Data columns (total 26 columns):\n",
      " #   Column               Non-Null Count  Dtype \n",
      "---  ------               --------------  ----- \n",
      " 0   id                   2728 non-null   object\n",
      " 1   Video Description    2731 non-null   object\n",
      " 2   Video Create Time    2731 non-null   object\n",
      " 3   Video Category Type  2731 non-null   object\n",
      " 4   Video Duration       2731 non-null   object\n",
      " 5   Video Width          2731 non-null   object\n",
      " 6   Video Height         2731 non-null   object\n",
      " 7   Video URL            2731 non-null   object\n",
      " 8   Video Cover          2731 non-null   object\n",
      " 9   Video View Count     2731 non-null   object\n",
      " 10  Video Like Count     2731 non-null   object\n",
      " 11  Video Comment Count  2731 non-null   object\n",
      " 12  Video Share Count    2731 non-null   object\n",
      " 13  Author ID            2731 non-null   object\n",
      " 14  Author Nickname      2731 non-null   object\n",
      " 15  Author Username      2731 non-null   object\n",
      " 16  Author Avatar        2731 non-null   object\n",
      " 17  Author Bio           2731 non-null   object\n",
      " 18  Author Verified      2731 non-null   object\n",
      " 19  Music ID             2731 non-null   object\n",
      " 20  Music Title          2731 non-null   object\n",
      " 21  Music Author         2731 non-null   object\n",
      " 22  Music Cover          2731 non-null   object\n",
      " 23  Music URL            2731 non-null   object\n",
      " 24  Music Duration       2731 non-null   object\n",
      " 25  Video Page URL       2731 non-null   object\n",
      "dtypes: object(26)\n",
      "memory usage: 554.9+ KB\n"
     ]
    }
   ],
   "source": [
    "df.info()"
   ]
  },
  {
   "cell_type": "code",
   "execution_count": 60,
   "id": "368264c4",
   "metadata": {},
   "outputs": [],
   "source": [
    "df[\"Video Create Time\"] = pd.to_datetime(df[\"Video Create Time\"], unit=\"s\", errors=\"coerce\")"
   ]
  },
  {
   "cell_type": "code",
   "execution_count": 61,
   "id": "6a03bad2",
   "metadata": {},
   "outputs": [],
   "source": [
    "columns_to_drop = [\n",
    "    \"Video Width\", \"Video Height\", \"Video URL\", \"Video Cover\",\n",
    "    \"Author ID\", \"Author Avatar\", \"Music ID\", \"Music Cover\", \"Music Duration\",\"Music URL\"\n",
    "]\n",
    "\n",
    "df.drop(columns=columns_to_drop, inplace=True)"
   ]
  },
  {
   "cell_type": "code",
   "execution_count": 62,
   "id": "082d900b",
   "metadata": {},
   "outputs": [
    {
     "data": {
      "text/plain": [
       "True"
      ]
     },
     "execution_count": 62,
     "metadata": {},
     "output_type": "execute_result"
    }
   ],
   "source": [
    "df['id'].duplicated().any()"
   ]
  },
  {
   "cell_type": "code",
   "execution_count": 63,
   "id": "a18ac8ca",
   "metadata": {},
   "outputs": [
    {
     "data": {
      "text/plain": [
       "111"
      ]
     },
     "execution_count": 63,
     "metadata": {},
     "output_type": "execute_result"
    }
   ],
   "source": [
    "df[\"id\"].duplicated().sum()\n"
   ]
  },
  {
   "cell_type": "code",
   "execution_count": 64,
   "id": "1196f799",
   "metadata": {},
   "outputs": [],
   "source": [
    "df.drop_duplicates(subset=\"id\", keep=\"first\", inplace=True)"
   ]
  },
  {
   "cell_type": "code",
   "execution_count": 65,
   "id": "5bccf933",
   "metadata": {},
   "outputs": [
    {
     "data": {
      "text/plain": [
       "False"
      ]
     },
     "execution_count": 65,
     "metadata": {},
     "output_type": "execute_result"
    }
   ],
   "source": [
    "df['id'].duplicated().any()"
   ]
  },
  {
   "cell_type": "code",
   "execution_count": 66,
   "id": "df63021a",
   "metadata": {},
   "outputs": [
    {
     "name": "stdout",
     "output_type": "stream",
     "text": [
      "<class 'pandas.core.frame.DataFrame'>\n",
      "Index: 2620 entries, 0 to 2730\n",
      "Data columns (total 16 columns):\n",
      " #   Column               Non-Null Count  Dtype         \n",
      "---  ------               --------------  -----         \n",
      " 0   id                   2619 non-null   object        \n",
      " 1   Video Description    2620 non-null   object        \n",
      " 2   Video Create Time    2617 non-null   datetime64[ns]\n",
      " 3   Video Category Type  2620 non-null   object        \n",
      " 4   Video Duration       2620 non-null   object        \n",
      " 5   Video View Count     2620 non-null   object        \n",
      " 6   Video Like Count     2620 non-null   object        \n",
      " 7   Video Comment Count  2620 non-null   object        \n",
      " 8   Video Share Count    2620 non-null   object        \n",
      " 9   Author Nickname      2620 non-null   object        \n",
      " 10  Author Username      2620 non-null   object        \n",
      " 11  Author Bio           2620 non-null   object        \n",
      " 12  Author Verified      2620 non-null   object        \n",
      " 13  Music Title          2620 non-null   object        \n",
      " 14  Music Author         2620 non-null   object        \n",
      " 15  Video Page URL       2620 non-null   object        \n",
      "dtypes: datetime64[ns](1), object(15)\n",
      "memory usage: 348.0+ KB\n"
     ]
    }
   ],
   "source": [
    "df.info()"
   ]
  },
  {
   "cell_type": "code",
   "execution_count": 67,
   "id": "115b8bf5",
   "metadata": {},
   "outputs": [],
   "source": [
    "numeric_cols = [\n",
    "    \"Video View Count\", \"Video Like Count\",\n",
    "    \"Video Comment Count\", \"Video Share Count\",\n",
    "    \"Video Duration\"\n",
    "]\n",
    "\n",
    "for col in numeric_cols:\n",
    "    df[col] = pd.to_numeric(df[col], errors=\"coerce\")\n"
   ]
  },
  {
   "cell_type": "code",
   "execution_count": 68,
   "id": "ae1ce7bf",
   "metadata": {},
   "outputs": [],
   "source": [
    "def bersihkan_karakter_aneh(text):\n",
    "    if pd.isna(text):\n",
    "        return text\n",
    "    return re.sub(r'[^\\x00-\\x7F]+', '', str(text))\n",
    "\n",
    "for col in df.select_dtypes(include='object').columns:\n",
    "    df[col] = df[col].apply(bersihkan_karakter_aneh)\n"
   ]
  },
  {
   "cell_type": "code",
   "execution_count": 69,
   "id": "2982e66a",
   "metadata": {},
   "outputs": [],
   "source": [
    "df = df[df[\"Author Verified\"] != \"Not Available\"]"
   ]
  },
  {
   "cell_type": "code",
   "execution_count": 70,
   "id": "d291a242",
   "metadata": {},
   "outputs": [
    {
     "data": {
      "text/plain": [
       "id                     0\n",
       "Video Description      0\n",
       "Video Create Time      0\n",
       "Video Category Type    0\n",
       "Video Duration         0\n",
       "Video View Count       0\n",
       "Video Like Count       0\n",
       "Video Comment Count    0\n",
       "Video Share Count      0\n",
       "Author Nickname        0\n",
       "Author Username        0\n",
       "Author Bio             0\n",
       "Author Verified        0\n",
       "Music Title            0\n",
       "Music Author           0\n",
       "Video Page URL         0\n",
       "dtype: int64"
      ]
     },
     "execution_count": 70,
     "metadata": {},
     "output_type": "execute_result"
    }
   ],
   "source": [
    "df.isna().sum().sort_values(ascending=False)\n"
   ]
  },
  {
   "cell_type": "code",
   "execution_count": 71,
   "id": "a12cacb7",
   "metadata": {},
   "outputs": [],
   "source": [
    "for col in df.select_dtypes(include='object').columns:\n",
    "    df.loc[:, col] = df[col].str.strip()"
   ]
  },
  {
   "cell_type": "code",
   "execution_count": 72,
   "id": "5054ca19",
   "metadata": {},
   "outputs": [],
   "source": [
    "# 2. Ganti string kosong jadi NaN (biar fillna bisa kerja)\n",
    "df.replace(r'^\\s*$', np.nan, regex=True, inplace=True)\n",
    "\n",
    "# 3. Isi nilai kosong (NaN)\n",
    "df[\"Video Description\"].fillna(\"missing_description\", inplace=True)\n",
    "df[\"Author Nickname\"].fillna(df[\"Author Username\"], inplace=True)\n",
    "df[\"Author Bio\"].fillna(\"No bio yet\", inplace=True)\n",
    "df[\"Music Title\"].fillna(\"unknown\", inplace=True)\n",
    "df[\"Music Author\"].fillna(\"unknown\", inplace=True)\n",
    "\n",
    "# 4. Ganti string literal \"Not Available\" ke placeholder\n",
    "df.loc[:, \"Video Description\"] = df[\"Video Description\"].replace(\"Not Available\", \"missing_description\")\n",
    "df.loc[:, \"Video Category Type\"] = df[\"Video Category Type\"].replace(\"Not Available\", \"unknown\")"
   ]
  },
  {
   "cell_type": "code",
   "execution_count": 73,
   "id": "04b4ba6f",
   "metadata": {},
   "outputs": [],
   "source": [
    "exclude_cols = [\"Video Page URL\"]\n",
    "\n",
    "for col in df.select_dtypes(include='object').columns:\n",
    "    if col not in exclude_cols:\n",
    "        df.loc[:, col] = df[col].str.strip().str.lower()\n"
   ]
  },
  {
   "cell_type": "code",
   "execution_count": 74,
   "id": "1179dea8",
   "metadata": {},
   "outputs": [],
   "source": [
    "df[\"Music Author\"] = df[\"Music Author\"].replace(\"not available\", \"unknown\")\n",
    "df[\"Music Title\"] = df[\"Music Title\"].replace(\"not available\", \"unknown\")"
   ]
  },
  {
   "cell_type": "code",
   "execution_count": 75,
   "id": "749c8791",
   "metadata": {},
   "outputs": [],
   "source": [
    "df[\"Upload Hour\"] = df[\"Video Create Time\"].dt.hour\n",
    "df[\"Upload Day\"] = df[\"Video Create Time\"].dt.day_name()\n"
   ]
  },
  {
   "cell_type": "code",
   "execution_count": 76,
   "id": "d5fb6f57",
   "metadata": {},
   "outputs": [],
   "source": [
    "df[\"Author Verified\"] = df[\"Author Verified\"].astype(\"category\")\n",
    "df[\"Video Category Type\"] = df[\"Video Category Type\"].astype(\"category\")\n",
    "df[\"Upload Day\"] = df[\"Upload Day\"].astype(\"category\")\n"
   ]
  },
  {
   "cell_type": "code",
   "execution_count": 77,
   "id": "7c0c3b38",
   "metadata": {},
   "outputs": [],
   "source": [
    "df.drop(columns=[\"id\"], inplace=True)\n"
   ]
  },
  {
   "cell_type": "code",
   "execution_count": 78,
   "id": "6aed3666",
   "metadata": {},
   "outputs": [],
   "source": [
    "df = df[[\n",
    "    \"Video Page URL\", \"Video Create Time\", \"Video Category Type\",\n",
    "    \"Upload Hour\", \"Upload Day\", \"Video Duration\",\n",
    "    \"Video View Count\", \"Video Like Count\", \"Video Comment Count\", \"Video Share Count\",\n",
    "    \"Author Username\", \"Author Nickname\", \"Author Bio\", \"Author Verified\",\n",
    "    \"Video Description\", \"Music Title\", \"Music Author\"\n",
    "]]\n"
   ]
  },
  {
   "cell_type": "code",
   "execution_count": 79,
   "id": "5c5ac38f",
   "metadata": {},
   "outputs": [],
   "source": [
    "df[\"Author Verified\"] = df[\"Author Verified\"].map({\"yes\": True, \"no\": False})\n"
   ]
  },
  {
   "cell_type": "code",
   "execution_count": 80,
   "id": "0c35de6e",
   "metadata": {},
   "outputs": [
    {
     "name": "stdout",
     "output_type": "stream",
     "text": [
      "Jumlah baris setelah cleaning: 2600\n"
     ]
    }
   ],
   "source": [
    "print(\"Jumlah baris setelah cleaning:\", len(df))\n",
    "\n",
    "df.to_csv(\"cleaned_data.csv\", index=False)\n"
   ]
  }
 ],
 "metadata": {
  "kernelspec": {
   "display_name": "hacktiv8",
   "language": "python",
   "name": "python3"
  },
  "language_info": {
   "codemirror_mode": {
    "name": "ipython",
    "version": 3
   },
   "file_extension": ".py",
   "mimetype": "text/x-python",
   "name": "python",
   "nbconvert_exporter": "python",
   "pygments_lexer": "ipython3",
   "version": "3.10.14"
  }
 },
 "nbformat": 4,
 "nbformat_minor": 5
}
